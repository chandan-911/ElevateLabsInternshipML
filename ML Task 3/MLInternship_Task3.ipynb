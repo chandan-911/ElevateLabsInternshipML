{
  "nbformat": 4,
  "nbformat_minor": 0,
  "metadata": {
    "colab": {
      "provenance": []
    },
    "kernelspec": {
      "name": "python3",
      "display_name": "Python 3"
    },
    "language_info": {
      "name": "python"
    }
  },
  "cells": [
    {
      "cell_type": "markdown",
      "source": [
        "# Initialize Preprocessing Libraries\n"
      ],
      "metadata": {
        "id": "ZLgYwJlAYX4e"
      }
    },
    {
      "cell_type": "code",
      "execution_count": 1,
      "metadata": {
        "id": "fGH-qOLuX88Y"
      },
      "outputs": [],
      "source": [
        "import pandas as pd\n",
        "import numpy as np\n",
        "import matplotlib.pyplot as plt\n",
        "import seaborn as sns\n",
        "from sklearn.model_selection import train_test_split\n",
        "from sklearn.linear_model import LinearRegression\n",
        "from sklearn.metrics import mean_absolute_error, mean_squared_error, r2_score\n",
        "from sklearn.preprocessing import StandardScaler"
      ]
    },
    {
      "cell_type": "code",
      "source": [
        "# Set Seaborn style\n",
        "sns.set(style=\"whitegrid\")"
      ],
      "metadata": {
        "id": "zLrLILK6Yn2C"
      },
      "execution_count": 2,
      "outputs": []
    },
    {
      "cell_type": "markdown",
      "source": [
        "# Step 1: Load and Preprocess the Dataset"
      ],
      "metadata": {
        "id": "e1n6eb12ZC2Y"
      }
    },
    {
      "cell_type": "code",
      "source": [
        "df = pd.read_csv('/content/Housing.csv')"
      ],
      "metadata": {
        "id": "Y0LZ97-DYxKP"
      },
      "execution_count": 3,
      "outputs": []
    },
    {
      "cell_type": "code",
      "source": [
        "# Check for missing values\n",
        "print(\"Missing Values:\")\n",
        "df.isnull().sum()\n"
      ],
      "metadata": {
        "colab": {
          "base_uri": "https://localhost:8080/",
          "height": 509
        },
        "id": "PwEoOqpTY0DF",
        "outputId": "5bbbc61b-9601-4481-999a-76231371d069"
      },
      "execution_count": 4,
      "outputs": [
        {
          "output_type": "stream",
          "name": "stdout",
          "text": [
            "Missing Values:\n"
          ]
        },
        {
          "output_type": "execute_result",
          "data": {
            "text/plain": [
              "price               0\n",
              "area                0\n",
              "bedrooms            0\n",
              "bathrooms           0\n",
              "stories             0\n",
              "mainroad            0\n",
              "guestroom           0\n",
              "basement            0\n",
              "hotwaterheating     0\n",
              "airconditioning     0\n",
              "parking             0\n",
              "prefarea            0\n",
              "furnishingstatus    0\n",
              "dtype: int64"
            ],
            "text/html": [
              "<div>\n",
              "<style scoped>\n",
              "    .dataframe tbody tr th:only-of-type {\n",
              "        vertical-align: middle;\n",
              "    }\n",
              "\n",
              "    .dataframe tbody tr th {\n",
              "        vertical-align: top;\n",
              "    }\n",
              "\n",
              "    .dataframe thead th {\n",
              "        text-align: right;\n",
              "    }\n",
              "</style>\n",
              "<table border=\"1\" class=\"dataframe\">\n",
              "  <thead>\n",
              "    <tr style=\"text-align: right;\">\n",
              "      <th></th>\n",
              "      <th>0</th>\n",
              "    </tr>\n",
              "  </thead>\n",
              "  <tbody>\n",
              "    <tr>\n",
              "      <th>price</th>\n",
              "      <td>0</td>\n",
              "    </tr>\n",
              "    <tr>\n",
              "      <th>area</th>\n",
              "      <td>0</td>\n",
              "    </tr>\n",
              "    <tr>\n",
              "      <th>bedrooms</th>\n",
              "      <td>0</td>\n",
              "    </tr>\n",
              "    <tr>\n",
              "      <th>bathrooms</th>\n",
              "      <td>0</td>\n",
              "    </tr>\n",
              "    <tr>\n",
              "      <th>stories</th>\n",
              "      <td>0</td>\n",
              "    </tr>\n",
              "    <tr>\n",
              "      <th>mainroad</th>\n",
              "      <td>0</td>\n",
              "    </tr>\n",
              "    <tr>\n",
              "      <th>guestroom</th>\n",
              "      <td>0</td>\n",
              "    </tr>\n",
              "    <tr>\n",
              "      <th>basement</th>\n",
              "      <td>0</td>\n",
              "    </tr>\n",
              "    <tr>\n",
              "      <th>hotwaterheating</th>\n",
              "      <td>0</td>\n",
              "    </tr>\n",
              "    <tr>\n",
              "      <th>airconditioning</th>\n",
              "      <td>0</td>\n",
              "    </tr>\n",
              "    <tr>\n",
              "      <th>parking</th>\n",
              "      <td>0</td>\n",
              "    </tr>\n",
              "    <tr>\n",
              "      <th>prefarea</th>\n",
              "      <td>0</td>\n",
              "    </tr>\n",
              "    <tr>\n",
              "      <th>furnishingstatus</th>\n",
              "      <td>0</td>\n",
              "    </tr>\n",
              "  </tbody>\n",
              "</table>\n",
              "</div><br><label><b>dtype:</b> int64</label>"
            ]
          },
          "metadata": {},
          "execution_count": 4
        }
      ]
    },
    {
      "cell_type": "code",
      "source": [
        "# Encode categorical variables\n",
        "binary_cols = ['mainroad', 'guestroom', 'basement', 'hotwaterheating', 'airconditioning', 'prefarea']\n",
        "for col in binary_cols:\n",
        "    df[col] = df[col].map({'yes': 1, 'no': 0})"
      ],
      "metadata": {
        "id": "uBRFwp-GY5Q3"
      },
      "execution_count": 5,
      "outputs": []
    },
    {
      "cell_type": "code",
      "source": [
        "# One-hot encode furnishingstatus\n",
        "df = pd.get_dummies(df, columns=['furnishingstatus'], prefix='furnish')"
      ],
      "metadata": {
        "id": "Yl634iVSY9GH"
      },
      "execution_count": 6,
      "outputs": []
    },
    {
      "cell_type": "code",
      "source": [
        "# Remove outliers in price using IQR\n",
        "Q1 = df['price'].quantile(0.25)\n",
        "Q3 = df['price'].quantile(0.75)\n",
        "IQR = Q3 - Q1\n",
        "df = df[(df['price'] >= Q1 - 1.5 * IQR) & (df['price'] <= Q3 + 1.5 * IQR)]"
      ],
      "metadata": {
        "id": "-JaZJ1A-ZGwJ"
      },
      "execution_count": 7,
      "outputs": []
    },
    {
      "cell_type": "code",
      "source": [
        "# Standardize numerical features (exclude price)\n",
        "numerical_cols = ['area', 'bedrooms', 'bathrooms', 'stories', 'parking']\n",
        "scaler = StandardScaler()\n",
        "df[numerical_cols] = scaler.fit_transform(df[numerical_cols])"
      ],
      "metadata": {
        "id": "jDkLSEh6ZJjt"
      },
      "execution_count": 8,
      "outputs": []
    },
    {
      "cell_type": "code",
      "source": [
        "# Define features and target\n",
        "X = df.drop('price', axis=1)\n",
        "y = df['price']"
      ],
      "metadata": {
        "id": "FXLmzeotZL3K"
      },
      "execution_count": 9,
      "outputs": []
    },
    {
      "cell_type": "markdown",
      "source": [
        "# Step 2: Split Data into Train-Test Sets"
      ],
      "metadata": {
        "id": "fJzt2aEIZOnk"
      }
    },
    {
      "cell_type": "code",
      "source": [
        "X_train, X_test, y_train, y_test = train_test_split(X, y, test_size=0.2, random_state=42)"
      ],
      "metadata": {
        "id": "-MQQ6XRUZOAe"
      },
      "execution_count": 10,
      "outputs": []
    },
    {
      "cell_type": "markdown",
      "source": [
        "# Step 3: Simple Linear Regression (using area)"
      ],
      "metadata": {
        "id": "tMNyE4usZU92"
      }
    },
    {
      "cell_type": "code",
      "source": [
        "X_train_simple = X_train[['area']]\n",
        "X_test_simple = X_test[['area']]\n",
        "simple_lr = LinearRegression()\n",
        "simple_lr.fit(X_train_simple, y_train)\n",
        "y_pred_simple = simple_lr.predict(X_test_simple)"
      ],
      "metadata": {
        "id": "KjQQ0lMiZS4t"
      },
      "execution_count": 11,
      "outputs": []
    },
    {
      "cell_type": "code",
      "source": [
        "# Evaluate Simple Linear Regression\n",
        "mae_simple = mean_absolute_error(y_test, y_pred_simple)\n",
        "mse_simple = mean_squared_error(y_test, y_pred_simple)\n",
        "r2_simple = r2_score(y_test, y_pred_simple)\n",
        "print(\"Simple Linear Regression (Area vs Price):\")\n",
        "print(f\"MAE: {mae_simple:.2f}\")\n",
        "print(f\"MSE: {mse_simple:.2f}\")\n",
        "print(f\"R²: {r2_simple:.2f}\")"
      ],
      "metadata": {
        "colab": {
          "base_uri": "https://localhost:8080/"
        },
        "id": "D2PgmC_UZX2i",
        "outputId": "0d189230-d93b-4c40-cdee-a80773e15e53"
      },
      "execution_count": 12,
      "outputs": [
        {
          "output_type": "stream",
          "name": "stdout",
          "text": [
            "Simple Linear Regression (Area vs Price):\n",
            "MAE: 1281034.19\n",
            "MSE: 2494502625574.46\n",
            "R²: 0.28\n"
          ]
        }
      ]
    },
    {
      "cell_type": "code",
      "source": [
        "# Plot regression line\n",
        "plt.figure(figsize=(8, 6))\n",
        "plt.scatter(X_test_simple, y_test, color='blue', label='Actual')\n",
        "plt.plot(X_test_simple, y_pred_simple, color='red', label='Regression Line')\n",
        "plt.xlabel('Area (Standardized)')\n",
        "plt.ylabel('Price')\n",
        "plt.title('Simple Linear Regression: Area vs Price')\n",
        "plt.legend()\n",
        "plt.show()"
      ],
      "metadata": {
        "colab": {
          "base_uri": "https://localhost:8080/",
          "height": 527
        },
        "id": "ojAbnUtvZZ62",
        "outputId": "6b99ca49-7092-4b74-c152-b2bae76604a9"
      },
      "execution_count": 13,
      "outputs": [
        {
          "output_type": "display_data",
          "data": {
            "text/plain": [
              "<Figure size 800x600 with 1 Axes>"
            ],
            "image/png": "[encoded data removed]"
          },
          "metadata": {}
        }
      ]
    },
    {
      "cell_type": "markdown",
      "source": [
        "# Step 4: Multiple Linear Regression"
      ],
      "metadata": {
        "id": "u7slyrDMZhgY"
      }
    },
    {
      "cell_type": "code",
      "source": [
        "multiple_lr = LinearRegression()\n",
        "multiple_lr.fit(X_train, y_train)\n",
        "y_pred_multiple = multiple_lr.predict(X_test)"
      ],
      "metadata": {
        "id": "GjyfWsg4ZjqE"
      },
      "execution_count": 14,
      "outputs": []
    },
    {
      "cell_type": "code",
      "source": [
        "# Evaluate Multiple Linear Regression\n",
        "mae_multiple = mean_absolute_error(y_test, y_pred_multiple)\n",
        "mse_multiple = mean_squared_error(y_test, y_pred_multiple)\n",
        "r2_multiple = r2_score(y_test, y_pred_multiple)\n",
        "print(\"\\nMultiple Linear Regression:\")\n",
        "print(f\"MAE: {mae_multiple:.2f}\")\n",
        "print(f\"MSE: {mse_multiple:.2f}\")\n",
        "print(f\"R²: {r2_multiple:.2f}\")"
      ],
      "metadata": {
        "colab": {
          "base_uri": "https://localhost:8080/"
        },
        "id": "ykCJGXoiZe-A",
        "outputId": "d4569dd0-a60c-46bd-a893-f4124efdc11b"
      },
      "execution_count": 15,
      "outputs": [
        {
          "output_type": "stream",
          "name": "stdout",
          "text": [
            "\n",
            "Multiple Linear Regression:\n",
            "MAE: 784877.26\n",
            "MSE: 1148203524699.75\n",
            "R²: 0.67\n"
          ]
        }
      ]
    },
    {
      "cell_type": "code",
      "source": [
        "# Interpret coefficients\n",
        "coef_df = pd.DataFrame({\n",
        "    'Feature': X.columns,\n",
        "    'Coefficient': multiple_lr.coef_\n",
        "})\n",
        "print(\"\\nMultiple Linear Regression Coefficients:\")\n",
        "print(coef_df)"
      ],
      "metadata": {
        "colab": {
          "base_uri": "https://localhost:8080/"
        },
        "id": "nyulncl9Zn07",
        "outputId": "3b46b02c-1a9e-4cad-99fa-acd3a7d089ad"
      },
      "execution_count": 16,
      "outputs": [
        {
          "output_type": "stream",
          "name": "stdout",
          "text": [
            "\n",
            "Multiple Linear Regression Coefficients:\n",
            "                   Feature    Coefficient\n",
            "0                     area  414635.975050\n",
            "1                 bedrooms   74138.941553\n",
            "2                bathrooms  376701.117784\n",
            "3                  stories  354760.451841\n",
            "4                 mainroad  406359.434878\n",
            "5                guestroom  379603.441698\n",
            "6                 basement  316981.520631\n",
            "7          hotwaterheating  799472.324288\n",
            "8          airconditioning  763325.214818\n",
            "9                  parking  142980.820837\n",
            "10                prefarea  582649.815567\n",
            "11       furnish_furnished  137976.522707\n",
            "12  furnish_semi-furnished   52624.491931\n",
            "13     furnish_unfurnished -190601.014638\n"
          ]
        }
      ]
    },
    {
      "cell_type": "markdown",
      "source": [
        "# Step 5: Save Preprocessed Dataset"
      ],
      "metadata": {
        "id": "KCvt7ldSZ0Lo"
      }
    },
    {
      "cell_type": "code",
      "source": [
        "df.to_csv('/content/Housing-Regression.csv', index=False)\n",
        "print(\"\\nPreprocessed dataset saved as 'Housing-Regression.csv'\")"
      ],
      "metadata": {
        "colab": {
          "base_uri": "https://localhost:8080/"
        },
        "id": "QO2NTIkuZs5n",
        "outputId": "e474a806-0265-42f3-ed1c-19f8ad669269"
      },
      "execution_count": 17,
      "outputs": [
        {
          "output_type": "stream",
          "name": "stdout",
          "text": [
            "\n",
            "Preprocessed dataset saved as 'Housing-Regression.csv'\n"
          ]
        }
      ]
    },
    {
      "cell_type": "code",
      "source": [],
      "metadata": {
        "id": "RoLmM8hnZ3XJ"
      },
      "execution_count": null,
      "outputs": []
    }
  ]
}